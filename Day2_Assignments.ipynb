{
 "cells": [
  {
   "cell_type": "code",
   "execution_count": 2,
   "metadata": {},
   "outputs": [
    {
     "name": "stdout",
     "output_type": "stream",
     "text": [
      "Enter number10\n",
      "Enter number9\n",
      "Enter number8\n",
      "Enter number7\n",
      "Enter number6\n",
      "Enter number5\n",
      "Enter number4\n",
      "Enter number3\n",
      "Enter number2\n",
      "Enter number1\n",
      "[10, 8, 6, 4, 2]\n"
     ]
    }
   ],
   "source": [
    "list1 = []\n",
    "\n",
    "for i in range (10):\n",
    "    inp_1=int(input(\"Enter number\"))\n",
    "    if inp_1%2==0:\n",
    "        list1.append(inp_1)\n",
    "print(list1)\n",
    "    \n",
    "  "
   ]
  },
  {
   "cell_type": "code",
   "execution_count": 4,
   "metadata": {},
   "outputs": [
    {
     "name": "stdout",
     "output_type": "stream",
     "text": [
      "[1, 9, 25, 49, 81]\n"
     ]
    }
   ],
   "source": [
    "#List comprehension is an elegant way to define and create a list in python. We can create lists just like mathematical statements and in one line only.\n",
    "\n",
    "odd_square = [x ** 2 for x in range(1, 11) if x % 2 == 1] \n",
    "print (odd_square) "
   ]
  },
  {
   "cell_type": "code",
   "execution_count": 6,
   "metadata": {},
   "outputs": [
    {
     "name": "stdout",
     "output_type": "stream",
     "text": [
      "Input : 7\n",
      "{1: 1, 2: 4, 3: 9, 4: 16, 5: 25, 6: 36, 7: 49}\n"
     ]
    }
   ],
   "source": [
    "n=int(input(\"Input : \"))\n",
    "d={x:x*x for x in range(1,n+1)}\n",
    "print(d)"
   ]
  },
  {
   "cell_type": "code",
   "execution_count": 2,
   "metadata": {},
   "outputs": [
    {
     "name": "stdout",
     "output_type": "stream",
     "text": [
      "UP 5\n",
      "DOWN 3\n",
      "LEFT 3\n",
      "RIGHT 2\n",
      "2.23606797749979\n"
     ]
    }
   ],
   "source": [
    "import math\n",
    "\n",
    "x1=0\n",
    "y1=0\n",
    "x1_old=0\n",
    "y1_old=0\n",
    "\n",
    "for i in range(4):\n",
    "    a,b = input(\"\").split()\n",
    "    if a == 'UP':\n",
    "        b1=int(b)\n",
    "        x2=x1\n",
    "        y2=y1+b1\n",
    "        x1=x2\n",
    "        y1=y2\n",
    "        #print(x2,y2)\n",
    "    elif a == 'DOWN':\n",
    "        b1=int(b)\n",
    "        x2=x1\n",
    "        y2=y1-b1\n",
    "        x1=x2\n",
    "        y1=y2\n",
    "        #print(x2,y2)\n",
    "    elif a == 'LEFT':\n",
    "        b1=int(b)\n",
    "        x2=x1+b1\n",
    "        y2=y1\n",
    "        x1=x2\n",
    "        y1=y2\n",
    "        #print(x2,y2)\n",
    "    elif a == 'RIGHT':\n",
    "        b1=int(b)\n",
    "        x2=x1-b1\n",
    "        y2=y1\n",
    "        x1=x2\n",
    "        y1=y2\n",
    "        #print(x2,y2)\n",
    "        \n",
    "FD=math.sqrt((x2-x1_old)**2 + (y2-y1_old)**2)\n",
    "print(FD)\n"
   ]
  },
  {
   "cell_type": "code",
   "execution_count": null,
   "metadata": {},
   "outputs": [],
   "source": []
  }
 ],
 "metadata": {
  "kernelspec": {
   "display_name": "Python 3",
   "language": "python",
   "name": "python3"
  },
  "language_info": {
   "codemirror_mode": {
    "name": "ipython",
    "version": 3
   },
   "file_extension": ".py",
   "mimetype": "text/x-python",
   "name": "python",
   "nbconvert_exporter": "python",
   "pygments_lexer": "ipython3",
   "version": "3.7.6"
  }
 },
 "nbformat": 4,
 "nbformat_minor": 4
}
