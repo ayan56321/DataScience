{
 "cells": [
  {
   "cell_type": "code",
   "execution_count": 2,
   "metadata": {},
   "outputs": [
    {
     "name": "stdout",
     "output_type": "stream",
     "text": [
      "1.0.1\n"
     ]
    }
   ],
   "source": [
    "# importing pandas as pd \n",
    "import pandas as pd \n",
    "  \n",
    "# Check the version \n",
    "print(pd.__version__) "
   ]
  },
  {
   "cell_type": "code",
   "execution_count": 3,
   "metadata": {},
   "outputs": [
    {
     "name": "stdout",
     "output_type": "stream",
     "text": [
      "0    a\n",
      "1    b\n",
      "2    c\n",
      "3    d\n",
      "4    e\n",
      "dtype: object\n"
     ]
    }
   ],
   "source": [
    "# importing Pandas & numpy \n",
    "import pandas as pd \n",
    "import numpy as np \n",
    "  \n",
    "# numpy array \n",
    "data = np.array(['a', 'b', 'c', 'd', 'e']) \n",
    "  \n",
    "# creating series \n",
    "s = pd.Series(data) \n",
    "print(s) "
   ]
  },
  {
   "cell_type": "code",
   "execution_count": 6,
   "metadata": {},
   "outputs": [
    {
     "name": "stdout",
     "output_type": "stream",
     "text": [
      "0         C\n",
      "1       C++\n",
      "2      Java\n",
      "3    Python\n",
      "4      Perl\n",
      "5      Ruby\n",
      "6     Julia\n",
      "dtype: object\n",
      "   index       0\n",
      "0      0       C\n",
      "1      1     C++\n",
      "2      2    Java\n",
      "3      3  Python\n",
      "4      4    Perl\n",
      "5      5    Ruby\n",
      "6      6   Julia\n"
     ]
    }
   ],
   "source": [
    "import pandas as pd \n",
    "  \n",
    "# Creating Series of  \n",
    "# programming languages \n",
    "s = pd.Series(['C', 'C++', 'Java',  \n",
    "               'Python', 'Perl', 'Ruby', \n",
    "               'Julia']) \n",
    "print(s)\n",
    "\n",
    "# using series.to_frame to \n",
    "# convert series to dataframe \n",
    "df = s.to_frame().reset_index() \n",
    "  \n",
    "# show the dataframe \n",
    "print(df)"
   ]
  },
  {
   "cell_type": "code",
   "execution_count": 20,
   "metadata": {},
   "outputs": [
    {
     "name": "stderr",
     "output_type": "stream",
     "text": [
      "C:\\Users\\91823\\anaconda3\\lib\\site-packages\\seaborn\\utils.py:384: UserWarning: No parser was explicitly specified, so I'm using the best available HTML parser for this system (\"lxml\"). This usually isn't a problem, but if you run this code on another system, or in a different virtual environment, it may use a different parser and behave differently.\n",
      "\n",
      "The code that caused this warning is on line 384 of the file C:\\Users\\91823\\anaconda3\\lib\\site-packages\\seaborn\\utils.py. To get rid of this warning, pass the additional argument 'features=\"lxml\"' to the BeautifulSoup constructor.\n",
      "\n",
      "  gh_list = BeautifulSoup(http)\n"
     ]
    },
    {
     "name": "stdout",
     "output_type": "stream",
     "text": [
      "['anagrams', 'anscombe', 'attention', 'brain_networks', 'car_crashes', 'diamonds', 'dots', 'exercise', 'flights', 'fmri', 'gammas', 'geyser', 'iris', 'mpg', 'penguins', 'planets', 'tips', 'titanic']\n",
      "    mpg  cylinders  displacement  horsepower  weight  acceleration  \\\n",
      "0  18.0          8         307.0       130.0    3504          12.0   \n",
      "1  15.0          8         350.0       165.0    3693          11.5   \n",
      "2  18.0          8         318.0       150.0    3436          11.0   \n",
      "3  16.0          8         304.0       150.0    3433          12.0   \n",
      "4  17.0          8         302.0       140.0    3449          10.5   \n",
      "\n",
      "   model_year origin                       name  \n",
      "0          70    usa  chevrolet chevelle malibu  \n",
      "1          70    usa          buick skylark 320  \n",
      "2          70    usa         plymouth satellite  \n",
      "3          70    usa              amc rebel sst  \n",
      "4          70    usa                ford torino  \n",
      "(398, 9)\n"
     ]
    },
    {
     "data": {
      "text/plain": [
       "count     398\n",
       "unique      3\n",
       "top       usa\n",
       "freq      249\n",
       "Name: origin, dtype: object"
      ]
     },
     "execution_count": 20,
     "metadata": {},
     "output_type": "execute_result"
    }
   ],
   "source": [
    "import seaborn as sb\n",
    "print (sb.get_dataset_names())\n",
    "\n",
    "mpg1=sb.load_dataset('mpg')\n",
    "print(mpg1.head())\n",
    "print(mpg1.shape)\n",
    "mpg1['origin'].describe()\n"
   ]
  },
  {
   "cell_type": "code",
   "execution_count": 24,
   "metadata": {},
   "outputs": [
    {
     "data": {
      "text/plain": [
       "array(['usa', 'japan', 'europe'], dtype=object)"
      ]
     },
     "execution_count": 24,
     "metadata": {},
     "output_type": "execute_result"
    }
   ],
   "source": [
    "import seaborn as sb\n",
    "#print (sb.get_dataset_names())\n",
    "\n",
    "mpg1=sb.load_dataset('mpg')\n",
    "mpg1['origin'].unique()"
   ]
  },
  {
   "cell_type": "code",
   "execution_count": 26,
   "metadata": {},
   "outputs": [
    {
     "data": {
      "text/plain": [
       "usa       249\n",
       "japan      79\n",
       "europe     70\n",
       "Name: origin, dtype: int64"
      ]
     },
     "execution_count": 26,
     "metadata": {},
     "output_type": "execute_result"
    }
   ],
   "source": [
    "import seaborn as sb\n",
    "\n",
    "mpg1=sb.load_dataset('mpg')\n",
    "mpg1['origin'].value_counts()\n"
   ]
  },
  {
   "cell_type": "code",
   "execution_count": null,
   "metadata": {},
   "outputs": [],
   "source": []
  }
 ],
 "metadata": {
  "kernelspec": {
   "display_name": "Python 3",
   "language": "python",
   "name": "python3"
  },
  "language_info": {
   "codemirror_mode": {
    "name": "ipython",
    "version": 3
   },
   "file_extension": ".py",
   "mimetype": "text/x-python",
   "name": "python",
   "nbconvert_exporter": "python",
   "pygments_lexer": "ipython3",
   "version": "3.7.6"
  }
 },
 "nbformat": 4,
 "nbformat_minor": 4
}
