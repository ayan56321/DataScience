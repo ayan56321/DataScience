{
 "cells": [
  {
   "cell_type": "code",
   "execution_count": 2,
   "metadata": {},
   "outputs": [
    {
     "data": {
      "text/plain": [
       "array([ 2,  5,  8, 11, 14, 17, 20, 23, 26, 29, 32, 35, 38, 41, 44, 47])"
      ]
     },
     "execution_count": 2,
     "metadata": {},
     "output_type": "execute_result"
    }
   ],
   "source": [
    "import numpy as np\n",
    "\n",
    "np.arange(2, 50, 3) "
   ]
  },
  {
   "cell_type": "code",
   "execution_count": 6,
   "metadata": {},
   "outputs": [
    {
     "name": "stdout",
     "output_type": "stream",
     "text": [
      "Enter elements for list1 :23\n",
      "Enter elements for list1 :34\n",
      "Enter elements for list1 :78\n",
      "Enter elements for list1 :65\n",
      "Enter elements for list1 :1\n",
      "[23, 34, 78, 65, 1]\n",
      "[23 34 78 65  1]\n",
      "Enter elements for list2 :27\n",
      "Enter elements for list2 :98\n",
      "Enter elements for list2 :67\n",
      "Enter elements for list2 :12\n",
      "Enter elements for list2 :3\n",
      "[27, 98, 67, 12, 3]\n",
      "[27 98 67 12  3]\n",
      "[23 34 78 65  1 27 98 67 12  3]\n",
      "Sorted Array1 :  [ 1 23 34 65 78]\n",
      "Sorted Array2 :  [ 3 12 27 67 98]\n"
     ]
    }
   ],
   "source": [
    "import numpy\n",
    "\n",
    "list1=[]\n",
    "list2=[]\n",
    "\n",
    "for i in range (5):\n",
    "    a=int(input(\"Enter elements for list1 :\"))\n",
    "    list1.append(a)    \n",
    "print (list1)\n",
    "arr1 = numpy.array(list1)\n",
    "print (arr1)\n",
    "\n",
    "for j in range (5):\n",
    "    b=int(input(\"Enter elements for list2 :\"))\n",
    "    list2.append(b)    \n",
    "print (list2)\n",
    "arr2 = numpy.array(list2)\n",
    "print (arr2)\n",
    "\n",
    "print(numpy.concatenate((arr1, arr2)))\n",
    "\n",
    "arr1.sort()\n",
    "print('Sorted Array1 : ', arr1)\n",
    "\n",
    "arr2.sort()\n",
    "print('Sorted Array2 : ', arr2)"
   ]
  },
  {
   "cell_type": "code",
   "execution_count": 9,
   "metadata": {},
   "outputs": [
    {
     "name": "stdout",
     "output_type": "stream",
     "text": [
      "[0 1 2]\n",
      "[[ 0  1  2  3]\n",
      " [ 4  5  6  7]\n",
      " [ 8  9 10 11]]\n",
      "[[[ 0  1  2  3]\n",
      "  [ 4  5  6  7]\n",
      "  [ 8  9 10 11]]\n",
      "\n",
      " [[12 13 14 15]\n",
      "  [16 17 18 19]\n",
      "  [20 21 22 23]]]\n",
      "(3,)\n",
      "(3, 4)\n",
      "(2, 3, 4)\n",
      "3\n",
      "12\n",
      "24\n"
     ]
    }
   ],
   "source": [
    "import numpy as np\n",
    "\n",
    "a_1d = np.arange(3)\n",
    "print(a_1d)\n",
    "\n",
    "a_2d = np.arange(12).reshape((3, 4))\n",
    "print(a_2d)\n",
    "\n",
    "a_3d = np.arange(24).reshape((2, 3, 4))\n",
    "print(a_3d)\n",
    "\n",
    "#shape\n",
    "\n",
    "print(a_1d.shape)\n",
    "print(a_2d.shape)\n",
    "print(a_3d.shape)\n",
    "\n",
    "#size\n",
    "\n",
    "print(a_1d.size)\n",
    "print(a_2d.size)\n",
    "print(a_3d.size)"
   ]
  },
  {
   "cell_type": "code",
   "execution_count": 13,
   "metadata": {},
   "outputs": [
    {
     "name": "stdout",
     "output_type": "stream",
     "text": [
      "[0 1 2 3 4 5 6 7 8 9]\n",
      "[[0 1 2 3 4]\n",
      " [5 6 7 8 9]]\n"
     ]
    }
   ],
   "source": [
    "import numpy as np\n",
    "\n",
    "arr = np.array([0, 1, 2, 3, 4, 5, 6, 7, 8, 9])\n",
    "print(arr)\n",
    "# Convert 1D array to a 2D numpy array of 2 rows and 3 columns\n",
    "arr_2d = np.reshape(arr, (2, 5))\n",
    "print(arr_2d)"
   ]
  },
  {
   "cell_type": "code",
   "execution_count": 20,
   "metadata": {},
   "outputs": [
    {
     "name": "stdout",
     "output_type": "stream",
     "text": [
      "[[ 1  5  9]\n",
      " [ 2  6 10]\n",
      " [ 3  7 11]\n",
      " [ 4  8 12]]\n",
      "[[ 1  5  9  3  7 11]\n",
      " [ 2  6 10  4  8 12]]\n"
     ]
    }
   ],
   "source": [
    "import numpy as np\n",
    "\n",
    "a = np.array([[1,5,9], [2,6,10]])\n",
    "b = np.array([[3,7,11], [4,8,12]])\n",
    "\n",
    "print(np.concatenate((a,b), axis=0))\n",
    "print(np.concatenate((a, b), axis=1))"
   ]
  },
  {
   "cell_type": "code",
   "execution_count": 24,
   "metadata": {},
   "outputs": [
    {
     "name": "stdout",
     "output_type": "stream",
     "text": [
      "[1 2 3]\n",
      "[[1 0 0]\n",
      " [2 3 4]]\n"
     ]
    }
   ],
   "source": [
    "import numpy as np\n",
    "\n",
    "#1-d array\n",
    "a = np.array([[1, 1], [2, 3]])\n",
    "print(np.unique(a))\n",
    "\n",
    "#2-d array\n",
    "a = np.array([[1, 0, 0], [1, 0, 0], [2, 3, 4]])\n",
    "print(np.unique(a, axis=0))\n"
   ]
  },
  {
   "cell_type": "code",
   "execution_count": null,
   "metadata": {},
   "outputs": [],
   "source": []
  }
 ],
 "metadata": {
  "kernelspec": {
   "display_name": "Python 3",
   "language": "python",
   "name": "python3"
  },
  "language_info": {
   "codemirror_mode": {
    "name": "ipython",
    "version": 3
   },
   "file_extension": ".py",
   "mimetype": "text/x-python",
   "name": "python",
   "nbconvert_exporter": "python",
   "pygments_lexer": "ipython3",
   "version": "3.7.6"
  }
 },
 "nbformat": 4,
 "nbformat_minor": 4
}
