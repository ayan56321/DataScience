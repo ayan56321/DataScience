{
 "cells": [
  {
   "cell_type": "code",
   "execution_count": 16,
   "metadata": {},
   "outputs": [
    {
     "name": "stdout",
     "output_type": "stream",
     "text": [
      "Wrong Input\n"
     ]
    }
   ],
   "source": [
    "import random \n",
    "word=\"OBANWRI\"\n",
    "\n",
    "if word=='RANIBOW':\n",
    "    print (\"Incorrect Match\")\n",
    "elif word=='RAINBOW':\n",
    "    print (\"Correct Match\")\n",
    "elif word=='BOWRANI':\n",
    "    print (\"Incorrect Match\")\n",
    "elif word=='ROBWANI':\n",
    "    print (\"Incorrect Match\")\n",
    "else:\n",
    "    print (\"Wrong Input\")\n",
    "\n",
    "    "
   ]
  },
  {
   "cell_type": "code",
   "execution_count": 2,
   "metadata": {},
   "outputs": [
    {
     "name": "stdout",
     "output_type": "stream",
     "text": [
      "Mention ur trainer :Lets Upgrade\n",
      "LETS UPGRADE\n"
     ]
    }
   ],
   "source": [
    "trainer = input(\"Mention ur trainer :\")\n",
    "print (trainer.upper())"
   ]
  },
  {
   "cell_type": "code",
   "execution_count": 10,
   "metadata": {},
   "outputs": [
    {
     "name": "stdout",
     "output_type": "stream",
     "text": [
      "10\n",
      "20\n",
      "Profit\n"
     ]
    }
   ],
   "source": [
    "CP=float(input())\n",
    "SP=float(input())\n",
    "if (CP>SP):\n",
    "    print(\"Loss\")\n",
    "elif (SP>CP):\n",
    "    print(\"Profit\")\n",
    "else:\n",
    "    print(\"Neither\")"
   ]
  },
  {
   "cell_type": "code",
   "execution_count": 13,
   "metadata": {},
   "outputs": [
    {
     "name": "stdout",
     "output_type": "stream",
     "text": [
      "5.4\n",
      "432.0\n"
     ]
    }
   ],
   "source": [
    "Euro=float(input())\n",
    "Rupee=Euro*80\n",
    "print(Rupee)"
   ]
  },
  {
   "cell_type": "code",
   "execution_count": null,
   "metadata": {},
   "outputs": [],
   "source": []
  },
  {
   "cell_type": "code",
   "execution_count": null,
   "metadata": {},
   "outputs": [],
   "source": []
  }
 ],
 "metadata": {
  "kernelspec": {
   "display_name": "Python 3",
   "language": "python",
   "name": "python3"
  },
  "language_info": {
   "codemirror_mode": {
    "name": "ipython",
    "version": 3
   },
   "file_extension": ".py",
   "mimetype": "text/x-python",
   "name": "python",
   "nbconvert_exporter": "python",
   "pygments_lexer": "ipython3",
   "version": "3.7.6"
  }
 },
 "nbformat": 4,
 "nbformat_minor": 4
}
